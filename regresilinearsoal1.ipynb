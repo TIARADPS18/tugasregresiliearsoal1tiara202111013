{
  "nbformat": 4,
  "nbformat_minor": 0,
  "metadata": {
    "colab": {
      "provenance": []
    },
    "kernelspec": {
      "name": "python3",
      "display_name": "Python 3"
    },
    "language_info": {
      "name": "python"
    }
  },
  "cells": [
    {
      "cell_type": "code",
      "execution_count": 3,
      "metadata": {
        "id": "qRC5mmRrIVmo"
      },
      "outputs": [],
      "source": [
        "from scipy import stats"
      ]
    },
    {
      "cell_type": "code",
      "source": [
        "x = [151,174,138,186,128,136,179,163,152,131]"
      ],
      "metadata": {
        "id": "-Cc39DEyIeNw"
      },
      "execution_count": 2,
      "outputs": []
    },
    {
      "cell_type": "code",
      "source": [
        "y = [63,81,56,91,47,57,76,72,62,48]"
      ],
      "metadata": {
        "id": "BlgxDS9WIpLz"
      },
      "execution_count": 4,
      "outputs": []
    },
    {
      "cell_type": "code",
      "source": [
        "slope, intercept, r, p, std_err = stats.linregress(x,y)"
      ],
      "metadata": {
        "id": "o8j4S6fMI5my"
      },
      "execution_count": 5,
      "outputs": []
    },
    {
      "cell_type": "code",
      "source": [
        "#fungsi linear regresi tiara\n",
        "def tiarafunct(x):\n",
        "  return slope * x + intercept"
      ],
      "metadata": {
        "id": "l5XnPuCnJCA7"
      },
      "execution_count": 6,
      "outputs": []
    },
    {
      "cell_type": "code",
      "source": [
        "berat_badantiara = tiarafunct(131)"
      ],
      "metadata": {
        "id": "vrizlrQUJIsu"
      },
      "execution_count": 11,
      "outputs": []
    },
    {
      "cell_type": "code",
      "source": [
        "print(berat_badantiara)"
      ],
      "metadata": {
        "colab": {
          "base_uri": "https://localhost:8080/"
        },
        "id": "iupgA89UJNLB",
        "outputId": "13e73ade-c270-4b0b-9fbf-910a98862a87"
      },
      "execution_count": 12,
      "outputs": [
        {
          "output_type": "stream",
          "name": "stdout",
          "text": [
            "49.918881759853335\n"
          ]
        }
      ]
    },
    {
      "cell_type": "code",
      "source": [],
      "metadata": {
        "id": "iEr2C8zEJOnr"
      },
      "execution_count": null,
      "outputs": []
    }
  ]
}